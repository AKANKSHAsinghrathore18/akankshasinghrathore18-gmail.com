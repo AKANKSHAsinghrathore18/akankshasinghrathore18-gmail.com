{
 "cells": [
  {
   "cell_type": "code",
   "execution_count": null,
   "metadata": {},
   "outputs": [],
   "source": [
    "# 2nd question\n",
    "\n",
    "l=[]\n",
    "for i in range(2000,3201):\n",
    "        if((i%7==0) and (i%5!=0)):\n",
    "           l.append(str(i))\n",
    "print(','.join(l)) \n",
    "\n",
    "\n",
    "        "
   ]
  },
  {
   "cell_type": "code",
   "execution_count": null,
   "metadata": {},
   "outputs": [],
   "source": [
    "n=input(\"enter your name\")\n",
    "print(n[::-1])"
   ]
  },
  {
   "cell_type": "code",
   "execution_count": null,
   "metadata": {},
   "outputs": [],
   "source": [
    "d=int(input(\"enter diameter of sphere\"))\n",
    "r=d/2\n",
    "c=r*r*r\n",
    "v=4/3*3.14*c\n",
    "print(v)"
   ]
  },
  {
   "cell_type": "code",
   "execution_count": null,
   "metadata": {},
   "outputs": [],
   "source": [
    "n=input(\"enter a word\")\n",
    "print(n[::-1])\n"
   ]
  },
  {
   "cell_type": "code",
   "execution_count": null,
   "metadata": {},
   "outputs": [],
   "source": [
    "n=int(input(\"enter number of rows\"))\n",
    "for i in range(n): \n",
    "   for j in range(i+1):\n",
    "      print(\"* \",end=\"\")\n",
    "   print(\"\\r\")\n",
    "for i in range(n,0,-1): \n",
    "   for j in range(i+1):\n",
    "      print(\"* \",end=\"\")\n",
    "   print(\"\\r\")   \n",
    "   "
   ]
  },
  {
   "cell_type": "code",
   "execution_count": null,
   "metadata": {},
   "outputs": [],
   "source": []
  },
  {
   "cell_type": "code",
   "execution_count": null,
   "metadata": {},
   "outputs": [],
   "source": [
    "print(\"WE,THE PEOPLE OF INDIA ,\\n   having solemnly resolved to constitute india into a SOVEREIGN,!\\n    SOCIALIST,SECULAR,DEMOCRATIC REBLIC\\n    and to secure to all its citizens\")"
   ]
  },
  {
   "cell_type": "code",
   "execution_count": null,
   "metadata": {},
   "outputs": [],
   "source": [
    "a=input()\n",
    "l=a.split(\",\")\n",
    "print(l)"
   ]
  },
  {
   "cell_type": "code",
   "execution_count": null,
   "metadata": {},
   "outputs": [],
   "source": []
  }
 ],
 "metadata": {
  "kernelspec": {
   "display_name": "Python 3",
   "language": "python",
   "name": "python3"
  },
  "language_info": {
   "codemirror_mode": {
    "name": "ipython",
    "version": 3
   },
   "file_extension": ".py",
   "mimetype": "text/x-python",
   "name": "python",
   "nbconvert_exporter": "python",
   "pygments_lexer": "ipython3",
   "version": "3.7.4"
  }
 },
 "nbformat": 4,
 "nbformat_minor": 2
}
